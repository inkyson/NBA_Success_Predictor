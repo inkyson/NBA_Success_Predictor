{
 "cells": [
  {
   "cell_type": "code",
   "execution_count": 1,
   "metadata": {},
   "outputs": [],
   "source": [
    "import warnings\n",
    "warnings.filterwarnings('ignore')"
   ]
  },
  {
   "cell_type": "code",
   "execution_count": 2,
   "metadata": {},
   "outputs": [],
   "source": [
    "import numpy as np\n",
    "import pandas as pd\n",
    "from pathlib import Path\n",
    "from collections import Counter"
   ]
  },
  {
   "cell_type": "code",
   "execution_count": 7,
   "metadata": {},
   "outputs": [],
   "source": [
    "# Load the data\n",
    "file_path = Path('Resources/Stats_Ht_Season_2003-2019.csv')\n",
    "df = pd.read_csv(file_path)\n",
    "df = df.loc[:, columns].copy()\n"
   ]
  },
  {
   "cell_type": "code",
   "execution_count": 8,
   "metadata": {},
   "outputs": [],
   "source": [
    "columns = [\n",
    "    \"Rk\", \"Player\", \"Ht\", \"Season\", \"Age\",\n",
    "    \"Tm\", \"Lg\", \"WS\", \"G\",\n",
    "    \"GS\", \"MP\", \"FG\",\n",
    "    \"FGA\", \"2P\", \"2PA\", \"3P\",\n",
    "    \"3PA\", \"FT\", \"FTA\", \"ORB\",\n",
    "    \"DRB\", \"TRB\", \"AST\", \"STL\",\n",
    "    \"BLK\", \"TOV\", \"PF\", \"PTS\",\n",
    "    \"FG%\", \"2P%\", \"3P%\", \"eFG%\",\n",
    "    \"FT%\", \"TS%\"\n",
    "]\n",
    "\n",
    "target = [\"MPPG\"]"
   ]
  },
  {
   "cell_type": "code",
   "execution_count": 9,
   "metadata": {},
   "outputs": [],
   "source": []
  },
  {
   "cell_type": "code",
   "execution_count": null,
   "metadata": {},
   "outputs": [],
   "source": []
  }
 ],
 "metadata": {
  "kernelspec": {
   "display_name": "mlenv",
   "language": "python",
   "name": "mlenv"
  },
  "language_info": {
   "codemirror_mode": {
    "name": "ipython",
    "version": 3
   },
   "file_extension": ".py",
   "mimetype": "text/x-python",
   "name": "python",
   "nbconvert_exporter": "python",
   "pygments_lexer": "ipython3",
   "version": "3.7.6"
  }
 },
 "nbformat": 4,
 "nbformat_minor": 4
}
